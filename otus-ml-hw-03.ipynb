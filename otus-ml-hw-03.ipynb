{
 "cells": [
  {
   "cell_type": "markdown",
   "metadata": {
    "id": "om4LPHujadRE"
   },
   "source": [
    "  # ДЗ №3. Тематическое моделирование"
   ]
  },
  {
   "cell_type": "code",
   "execution_count": 1,
   "metadata": {},
   "outputs": [],
   "source": [
    "import nltk\n",
    "import numpy as np\n",
    "import pandas as pd\n",
    "import random\n",
    "import re\n",
    "import warnings\n",
    "warnings.filterwarnings(\"ignore\")\n",
    "\n",
    "from bs4 import BeautifulSoup\n",
    "from catboost import CatBoostClassifier\n",
    "from collections import defaultdict\n",
    "from gensim.models import KeyedVectors\n",
    "from sklearn.feature_extraction.text import TfidfVectorizer\n",
    "from sklearn.metrics import accuracy_score, roc_auc_score, f1_score, precision_score, recall_score\n",
    "from sklearn.model_selection import train_test_split\n",
    "from tqdm import tqdm\n",
    "\n",
    "random.seed(123)\n",
    "np.random.seed(123)"
   ]
  },
  {
   "cell_type": "markdown",
   "metadata": {},
   "source": [
    "## EDA\n",
    "\n",
    "Загрузим набор данных и отобразим несколько строк."
   ]
  },
  {
   "cell_type": "code",
   "execution_count": 2,
   "metadata": {},
   "outputs": [],
   "source": [
    "_dataset = pd.read_csv('./data/IMDB Dataset.csv')"
   ]
  },
  {
   "cell_type": "code",
   "execution_count": 5,
   "metadata": {},
   "outputs": [
    {
     "data": {
      "text/html": [
       "<div>\n",
       "<style scoped>\n",
       "    .dataframe tbody tr th:only-of-type {\n",
       "        vertical-align: middle;\n",
       "    }\n",
       "\n",
       "    .dataframe tbody tr th {\n",
       "        vertical-align: top;\n",
       "    }\n",
       "\n",
       "    .dataframe thead th {\n",
       "        text-align: right;\n",
       "    }\n",
       "</style>\n",
       "<table border=\"1\" class=\"dataframe\">\n",
       "  <thead>\n",
       "    <tr style=\"text-align: right;\">\n",
       "      <th></th>\n",
       "      <th>review</th>\n",
       "      <th>sentiment</th>\n",
       "    </tr>\n",
       "  </thead>\n",
       "  <tbody>\n",
       "    <tr>\n",
       "      <th>0</th>\n",
       "      <td>One of the other reviewers has mentioned that ...</td>\n",
       "      <td>positive</td>\n",
       "    </tr>\n",
       "    <tr>\n",
       "      <th>1</th>\n",
       "      <td>A wonderful little production. &lt;br /&gt;&lt;br /&gt;The...</td>\n",
       "      <td>positive</td>\n",
       "    </tr>\n",
       "    <tr>\n",
       "      <th>2</th>\n",
       "      <td>I thought this was a wonderful way to spend ti...</td>\n",
       "      <td>positive</td>\n",
       "    </tr>\n",
       "    <tr>\n",
       "      <th>3</th>\n",
       "      <td>Basically there's a family where a little boy ...</td>\n",
       "      <td>negative</td>\n",
       "    </tr>\n",
       "    <tr>\n",
       "      <th>4</th>\n",
       "      <td>Petter Mattei's \"Love in the Time of Money\" is...</td>\n",
       "      <td>positive</td>\n",
       "    </tr>\n",
       "  </tbody>\n",
       "</table>\n",
       "</div>"
      ],
      "text/plain": [
       "                                              review sentiment\n",
       "0  One of the other reviewers has mentioned that ...  positive\n",
       "1  A wonderful little production. <br /><br />The...  positive\n",
       "2  I thought this was a wonderful way to spend ti...  positive\n",
       "3  Basically there's a family where a little boy ...  negative\n",
       "4  Petter Mattei's \"Love in the Time of Money\" is...  positive"
      ]
     },
     "execution_count": 5,
     "metadata": {},
     "output_type": "execute_result"
    }
   ],
   "source": [
    "_dataset.head()"
   ]
  },
  {
   "cell_type": "markdown",
   "metadata": {},
   "source": [
    "Данные содержат HTML теги от которых хорошо бы избавится."
   ]
  },
  {
   "cell_type": "markdown",
   "metadata": {},
   "source": [
    "Объявим класс для предобработки текста."
   ]
  },
  {
   "cell_type": "code",
   "execution_count": 7,
   "metadata": {},
   "outputs": [],
   "source": [
    "class Preprocessor():\n",
    "    '''\n",
    "    Предобрабатывает документы:\n",
    "    - удаляет теги HTML;\n",
    "    - удаляет все символы кроме букв английского алфавита;\n",
    "    - приводит документы к нижнему регистру.\n",
    "    '''\n",
    "\n",
    "    forbidden_chars_regex = re.compile('[^A-Za-z\\s]')\n",
    "\n",
    "    def fit(self, X, y): # для совместимости с sklearn.pipeline.Pipeline, если потребуется\n",
    "        return self\n",
    "\n",
    "    def transform(self, X):\n",
    "        result = []\n",
    "        for document in tqdm(X):\n",
    "            soup = BeautifulSoup(document)\n",
    "            text = soup.get_text(' ') # не просто удалим теги, а заменим их на пробелы для того, что бы строки вида \"hello<br/>world\" не превратились в \"helloworld\"\n",
    "            text = self.forbidden_chars_regex.sub(r'', text)\n",
    "            result.append(text.lower())\n",
    "\n",
    "        return result"
   ]
  },
  {
   "cell_type": "code",
   "execution_count": 8,
   "metadata": {},
   "outputs": [
    {
     "name": "stderr",
     "output_type": "stream",
     "text": [
      "100%|██████████| 50000/50000 [00:08<00:00, 5633.58it/s]\n"
     ]
    }
   ],
   "source": [
    "# обработаем корпус\n",
    "_X = Preprocessor().transform(_dataset['review'])\n",
    "\n",
    "# отделим целевую переменную и закодируем ее числовыми значениями\n",
    "_target = (_dataset['sentiment'] == 'positive').astype(int)"
   ]
  },
  {
   "cell_type": "code",
   "execution_count": 9,
   "metadata": {},
   "outputs": [
    {
     "data": {
      "text/plain": [
       "'a wonderful little production  the filming technique is very unassuming very oldtimebbc fashion and gives a comforting and sometimes discomforting sense of realism to the entire piece  the actors are extremely well chosen michael sheen not only has got all the polari but he has all the voices down pat too you can truly see the seamless editing guided by the references to williams diary entries not only is it well worth the watching but it is a terrificly written and performed piece a masterful production about one of the great masters of comedy and his life  the realism really comes home with the little things the fantasy of the guard which rather than use the traditional dream techniques remains solid then disappears it plays on our knowledge and our senses particularly with the scenes concerning orton and halliwell and the sets particularly of their flat with halliwells murals decorating every surface are terribly well done'"
      ]
     },
     "execution_count": 9,
     "metadata": {},
     "output_type": "execute_result"
    }
   ],
   "source": [
    "_X[1] # убедимся что html теги были корректно обработаны"
   ]
  },
  {
   "cell_type": "code",
   "execution_count": 10,
   "metadata": {},
   "outputs": [],
   "source": [
    "# разделим данные на тренировочный и тестовый набор\n",
    "_X_train, _X_test, _y_train, _y_test = train_test_split(_X, _target, test_size=0.2, random_state=123)"
   ]
  },
  {
   "cell_type": "code",
   "execution_count": 11,
   "metadata": {},
   "outputs": [
    {
     "data": {
      "text/plain": [
       "<Axes: >"
      ]
     },
     "execution_count": 11,
     "metadata": {},
     "output_type": "execute_result"
    },
    {
     "data": {
      "image/png": "[encoded data removed]",
      "text/plain": [
       "<Figure size 640x480 with 1 Axes>"
      ]
     },
     "metadata": {},
     "output_type": "display_data"
    }
   ],
   "source": [
    "# сбалансированы ли классы?\n",
    "_target.hist()"
   ]
  },
  {
   "cell_type": "markdown",
   "metadata": {},
   "source": [
    "## Моделирование"
   ]
  },
  {
   "cell_type": "code",
   "execution_count": 12,
   "metadata": {},
   "outputs": [],
   "source": [
    "# утилитная функция для печати метрик\n",
    "def print_score(y_test, y_pred):\n",
    "    print('Accuracy:', accuracy_score(y_test, y_pred))\n",
    "    print('ROC AUC:', roc_auc_score(y_test, y_pred))\n",
    "    print('F1:', f1_score(y_test, y_pred))\n",
    "    print('Precision:', precision_score(y_test, y_pred))\n",
    "    print('Recall:', recall_score(y_test, y_pred))"
   ]
  },
  {
   "cell_type": "markdown",
   "metadata": {},
   "source": [
    "### TF-IDF\n",
    "\n",
    "Каждый документ кодируется TF-IDF вектором."
   ]
  },
  {
   "cell_type": "code",
   "execution_count": null,
   "metadata": {},
   "outputs": [],
   "source": [
    "# загрузим список стоп-слов для английского языка\n",
    "nltk.download('stopwords')\n",
    "_stop_words = nltk.corpus.stopwords.words('english')"
   ]
  },
  {
   "cell_type": "code",
   "execution_count": 14,
   "metadata": {},
   "outputs": [],
   "source": [
    "_tfidf_vectorizer = TfidfVectorizer(stop_words=_stop_words,\n",
    "                                    ngram_range=(1, 2),\n",
    "                                    max_features=2000,\n",
    "                                    min_df=1, # лучше всего работает со значением по-умолчанию\n",
    "                                    max_df=1.0, # Значения < 0.7 ухудшило результат. > 0.7 не повлияло. Оставляем по-умолчанию.\n",
    "                                    norm=None)\n",
    "_tfidf_X_train = _tfidf_vectorizer.fit_transform(_X_train)"
   ]
  },
  {
   "cell_type": "code",
   "execution_count": 15,
   "metadata": {},
   "outputs": [
    {
     "name": "stdout",
     "output_type": "stream",
     "text": [
      "2000\n",
      "['ability' 'able' 'absolute' 'absolutely' 'absurd' 'academy' 'accent'\n",
      " 'accept' 'accident' 'according' 'accurate' 'across' 'act' 'acted'\n",
      " 'acting' 'action' 'actions' 'actor' 'actors' 'actress' 'actresses' 'acts'\n",
      " 'actual' 'actually' 'adaptation' 'add' 'added' 'addition' 'adds' 'admit'\n",
      " 'adult' 'adults' 'adventure' 'advice' 'affair' 'afraid' 'age' 'agent'\n",
      " 'ago' 'agree' 'ahead' 'air' 'al' 'alan' 'alien' 'aliens' 'alive' 'allow'\n",
      " 'allowed' 'almost']\n"
     ]
    }
   ],
   "source": [
    "print(len(_tfidf_vectorizer.get_feature_names_out()))\n",
    "print(_tfidf_vectorizer.get_feature_names_out()[:50])"
   ]
  },
  {
   "cell_type": "markdown",
   "metadata": {},
   "source": [
    "Много бесполезных слов. К сожалению, отсеять их без потери качества не получилось."
   ]
  },
  {
   "cell_type": "code",
   "execution_count": null,
   "metadata": {},
   "outputs": [],
   "source": [
    "# Этот код использовался для подбора гиперпараметров.\n",
    "'''\n",
    "from catboost import cv, Pool\n",
    "\n",
    "_params = {\"iterations\": 1000,\n",
    "           \"loss_function\": \"Logloss\",\n",
    "           \"learning_rate\": 0.1,\n",
    "           \"depth\": 3}\n",
    "\n",
    "_cv_results = cv(pool=Pool(_tfidf_X_train, label=_y_train),\n",
    "                 params=_params,\n",
    "                 nfold=3,\n",
    "                 partition_random_seed=123,\n",
    "                 shuffle=True,\n",
    "                 stratified=True,\n",
    "                 plot=True,\n",
    "                 early_stopping_rounds=50)\n",
    "\n",
    "print(_cv_results)\n",
    "'''"
   ]
  },
  {
   "cell_type": "code",
   "execution_count": 17,
   "metadata": {
    "scrolled": true
   },
   "outputs": [
    {
     "data": {
      "application/vnd.jupyter.widget-view+json": {
       "model_id": "6ad51d546061492790a5c62b186ed22e",
       "version_major": 2,
       "version_minor": 0
      },
      "text/plain": [
       "MetricVisualizer(layout=Layout(align_self='stretch', height='500px'))"
      ]
     },
     "metadata": {},
     "output_type": "display_data"
    },
    {
     "name": "stdout",
     "output_type": "stream",
     "text": [
      "0:\tlearn: 0.6733668\ttotal: 242ms\tremaining: 2m 25s\n",
      "100:\tlearn: 0.4458131\ttotal: 6.7s\tremaining: 33.1s\n",
      "200:\tlearn: 0.3943169\ttotal: 12.9s\tremaining: 25.5s\n",
      "300:\tlearn: 0.3645751\ttotal: 18.8s\tremaining: 18.6s\n",
      "400:\tlearn: 0.3441061\ttotal: 24.7s\tremaining: 12.2s\n",
      "500:\tlearn: 0.3282755\ttotal: 30.7s\tremaining: 6.07s\n",
      "599:\tlearn: 0.3155404\ttotal: 36.6s\tremaining: 0us\n",
      "Accuracy: 0.8589\n",
      "ROC AUC: 0.8587870490035444\n",
      "F1: 0.8630761766132945\n",
      "Precision: 0.8415972747918243\n",
      "Recall: 0.8856801433977295\n"
     ]
    }
   ],
   "source": [
    "_y_pred = CatBoostClassifier(iterations=600, learning_rate=0.1, depth=3, random_seed=123, verbose=100) \\\n",
    "    .fit(_tfidf_X_train, _y_train, plot=True, early_stopping_rounds=50) \\\n",
    "    .predict(_tfidf_vectorizer.transform(_X_test))\n",
    "\n",
    "print_score(_y_test, _y_pred)"
   ]
  },
  {
   "cell_type": "markdown",
   "metadata": {},
   "source": [
    "## Embeddings\n",
    "\n",
    "Веторизуем корпус используя embeddings."
   ]
  },
  {
   "cell_type": "markdown",
   "metadata": {},
   "source": [
    "Скачаем модель word2vec https://code.google.com/archive/p/word2vec/ и поместим ее в директорию data."
   ]
  },
  {
   "cell_type": "code",
   "execution_count": 20,
   "metadata": {},
   "outputs": [],
   "source": [
    "_google_news_model = KeyedVectors.load_word2vec_format('./data/GoogleNews-vectors-negative300.bin', binary=True)"
   ]
  },
  {
   "cell_type": "markdown",
   "metadata": {},
   "source": [
    "Объявим класс векторизатора."
   ]
  },
  {
   "cell_type": "code",
   "execution_count": 18,
   "metadata": {},
   "outputs": [],
   "source": [
    "class Word2VecVectorizer():\n",
    "    '''\n",
    "    Веторизует каждый документ в данном корпусе следующий образом:\n",
    "    - получить вектор word2vec для каждого слова документа;\n",
    "    - найти среднее данных векторов.\n",
    "    '''\n",
    "\n",
    "    _vector_size = 300\n",
    "\n",
    "    def __init__(self, word2vec_model):\n",
    "        self._word2vec_model = word2vec_model\n",
    "\n",
    "\n",
    "    def fit(self, X, y): # для совместимости с sklearn.pipeline.Pipeline, если потребуется\n",
    "        return self\n",
    "\n",
    "\n",
    "    def transform(self, X):\n",
    "        result = np.zeros(shape=(len(X), self._vector_size), dtype=np.float32)\n",
    "\n",
    "        for i, document in tqdm(enumerate(X)):\n",
    "            words = document.split()\n",
    "            # вектора всех слов документа\n",
    "            vectors = np.zeros(shape=(len(words), self._vector_size))\n",
    "\n",
    "            for j, word in enumerate(words):\n",
    "                if word in self._word2vec_model: # слово может отсутствовать в модели word2vec\n",
    "                    vectors[j] = self._word2vec_model[word]\n",
    "\n",
    "            # находим среднее\n",
    "            result[i] = np.mean(vectors, axis=0)\n",
    "\n",
    "        return result"
   ]
  },
  {
   "cell_type": "code",
   "execution_count": 21,
   "metadata": {},
   "outputs": [
    {
     "name": "stderr",
     "output_type": "stream",
     "text": [
      "40000it [00:25, 1543.72it/s]\n"
     ]
    }
   ],
   "source": [
    "_w2v_vectorizer = Word2VecVectorizer(_google_news_model).fit(_X_train, _y_train)\n",
    "\n",
    "# векторизуем корпус\n",
    "_w2v_X_train = _w2v_vectorizer.transform(_X_train)"
   ]
  },
  {
   "cell_type": "code",
   "execution_count": null,
   "metadata": {},
   "outputs": [],
   "source": [
    "# Этот код использовался для подбора гиперпараметров.\n",
    "'''\n",
    "_params = {\"iterations\": 1000,\n",
    "           \"loss_function\": \"Logloss\",\n",
    "           \"learning_rate\": 0.1,\n",
    "           \"depth\": 3}\n",
    "\n",
    "_cv_results = cv(pool=Pool(_w2v_X_train, label=_y_train),\n",
    "                 params=_params,\n",
    "                 nfold=3,\n",
    "                 partition_random_seed=123,\n",
    "                 shuffle=True,\n",
    "                 stratified=True,\n",
    "                 plot=True,\n",
    "                 early_stopping_rounds=50)\n",
    "\n",
    "print(_cv_results)\n",
    "'''"
   ]
  },
  {
   "cell_type": "code",
   "execution_count": 23,
   "metadata": {},
   "outputs": [
    {
     "data": {
      "application/vnd.jupyter.widget-view+json": {
       "model_id": "463261c0aa854cba86142d4c2777938f",
       "version_major": 2,
       "version_minor": 0
      },
      "text/plain": [
       "MetricVisualizer(layout=Layout(align_self='stretch', height='500px'))"
      ]
     },
     "metadata": {},
     "output_type": "display_data"
    },
    {
     "name": "stdout",
     "output_type": "stream",
     "text": [
      "0:\tlearn: 0.6750329\ttotal: 31.9ms\tremaining: 19.1s\n",
      "100:\tlearn: 0.4127516\ttotal: 2.46s\tremaining: 12.1s\n",
      "200:\tlearn: 0.3702524\ttotal: 4.67s\tremaining: 9.26s\n",
      "300:\tlearn: 0.3470895\ttotal: 6.86s\tremaining: 6.82s\n",
      "400:\tlearn: 0.3301543\ttotal: 9.01s\tremaining: 4.47s\n",
      "500:\tlearn: 0.3165111\ttotal: 11.2s\tremaining: 2.21s\n",
      "599:\tlearn: 0.3047748\ttotal: 13.3s\tremaining: 0us\n"
     ]
    },
    {
     "name": "stderr",
     "output_type": "stream",
     "text": [
      "10000it [00:06, 1556.22it/s]"
     ]
    },
    {
     "name": "stdout",
     "output_type": "stream",
     "text": [
      "Accuracy: 0.8429\n",
      "ROC AUC: 0.8428648881366269\n",
      "F1: 0.8447475046941397\n",
      "Precision: 0.8383679874460572\n",
      "Recall: 0.8512248556064529\n"
     ]
    },
    {
     "name": "stderr",
     "output_type": "stream",
     "text": [
      "\n"
     ]
    }
   ],
   "source": [
    "_y_pred = CatBoostClassifier(iterations=600, learning_rate=0.1, depth=3, random_seed=123, verbose=100) \\\n",
    "    .fit(_w2v_X_train, _y_train, plot=True, early_stopping_rounds=50) \\\n",
    "    .predict(_w2v_vectorizer.transform(_X_test))\n",
    "\n",
    "print_score(_y_test, _y_pred)"
   ]
  },
  {
   "cell_type": "markdown",
   "metadata": {},
   "source": [
    "### Embeddings + IDF\n",
    "\n",
    "Теперь проделаем тоже самое, но умножим каждый embedding на IDF данного слова."
   ]
  },
  {
   "cell_type": "code",
   "execution_count": 24,
   "metadata": {},
   "outputs": [],
   "source": [
    "class Word2VecIdfVectorizer():\n",
    "    '''\n",
    "    Веторизует каждый документ в данном корпусе следующий образом:\n",
    "    - получить вектор word2vec для каждого слова документа;\n",
    "    - умножить каждый вектор на idf соответстующего слова;\n",
    "    - найти среднее полученных векторов.\n",
    "    '''\n",
    "\n",
    "    _vector_size = 300\n",
    "\n",
    "    def __init__(self, word2vec_model, tfidf_vectorizer):\n",
    "        self._word2vec_model = word2vec_model\n",
    "        self._tfidf_vectorizer = tfidf_vectorizer\n",
    "        self._idf_weights = None\n",
    "\n",
    "\n",
    "    def fit(self, X, y):\n",
    "        idf_list = self._tfidf_vectorizer.idf_\n",
    "        \n",
    "        max_idf = max(idf_list) # неизвестным словам присваиваем максимальный IDF\n",
    "\n",
    "        self._idf_weights = defaultdict(lambda: max_idf)\n",
    "        for word, idf_index in self._tfidf_vectorizer.vocabulary_.items():\n",
    "            self._idf_weights[word] = idf_list[idf_index]\n",
    "\n",
    "        return self\n",
    "\n",
    "\n",
    "    def transform(self, X):\n",
    "        result = np.zeros(shape=(len(X), self._vector_size), dtype=np.float32)\n",
    "\n",
    "        for i, document in tqdm(enumerate(X)):\n",
    "            words = document.split() # разделяем документ на слова\n",
    "            vectors = np.zeros(shape=(len(words), self._vector_size))\n",
    "            for j, word in enumerate(words):\n",
    "                if word in self._word2vec_model:\n",
    "                    # получаем embedding для каждого слова и умножаем на IDF\n",
    "                    vectors[j] = self._word2vec_model[word] * self._idf_weights[word]\n",
    "\n",
    "            result[i] = np.mean(vectors, axis=0)\n",
    "\n",
    "        return result"
   ]
  },
  {
   "cell_type": "code",
   "execution_count": 25,
   "metadata": {},
   "outputs": [],
   "source": [
    "_full_tfidf_vectorizer = TfidfVectorizer(norm=None).fit(_X_train)"
   ]
  },
  {
   "cell_type": "code",
   "execution_count": 26,
   "metadata": {},
   "outputs": [
    {
     "name": "stderr",
     "output_type": "stream",
     "text": [
      "40000it [00:49, 809.79it/s]\n"
     ]
    }
   ],
   "source": [
    "_w2vidf_vectorizer = Word2VecIdfVectorizer(_google_news_model, _full_tfidf_vectorizer).fit(_X_train, _y_train)\n",
    "_w2vidf_X_train = _w2vidf_vectorizer.transform(_X_train)"
   ]
  },
  {
   "cell_type": "code",
   "execution_count": null,
   "metadata": {},
   "outputs": [],
   "source": [
    "# Этот код использовался для подбора гиперпараметров.\n",
    "'''\n",
    "from catboost import cv, Pool\n",
    "\n",
    "_params = {\"iterations\": 1000,\n",
    "           \"loss_function\": \"Logloss\",\n",
    "           \"learning_rate\": 0.1,\n",
    "           \"depth\": 3}\n",
    "\n",
    "cv_results = cv(pool=Pool(_w2vidf_X_train, label=_y_train),\n",
    "                params=_params,\n",
    "                nfold=2,\n",
    "                partition_random_seed=123,\n",
    "                shuffle=True,\n",
    "                stratified=True,\n",
    "                plot=True,\n",
    "                early_stopping_rounds=50)\n",
    "\n",
    "print(cv_results)\n",
    "'''"
   ]
  },
  {
   "cell_type": "code",
   "execution_count": 28,
   "metadata": {},
   "outputs": [
    {
     "data": {
      "application/vnd.jupyter.widget-view+json": {
       "model_id": "5016f011390f489696be541cbff1aaa3",
       "version_major": 2,
       "version_minor": 0
      },
      "text/plain": [
       "MetricVisualizer(layout=Layout(align_self='stretch', height='500px'))"
      ]
     },
     "metadata": {},
     "output_type": "display_data"
    },
    {
     "name": "stdout",
     "output_type": "stream",
     "text": [
      "0:\tlearn: 0.6786261\ttotal: 27.4ms\tremaining: 19.1s\n",
      "100:\tlearn: 0.4370345\ttotal: 2.5s\tremaining: 14.8s\n",
      "200:\tlearn: 0.3960172\ttotal: 4.8s\tremaining: 11.9s\n",
      "300:\tlearn: 0.3727666\ttotal: 7.17s\tremaining: 9.51s\n",
      "400:\tlearn: 0.3557347\ttotal: 9.52s\tremaining: 7.1s\n",
      "500:\tlearn: 0.3417560\ttotal: 11.8s\tremaining: 4.67s\n",
      "600:\tlearn: 0.3295110\ttotal: 14s\tremaining: 2.3s\n",
      "699:\tlearn: 0.3187859\ttotal: 16.2s\tremaining: 0us\n"
     ]
    },
    {
     "name": "stderr",
     "output_type": "stream",
     "text": [
      "10000it [00:11, 842.44it/s]"
     ]
    },
    {
     "name": "stdout",
     "output_type": "stream",
     "text": [
      "Accuracy: 0.8317\n",
      "ROC AUC: 0.8316655305799596\n",
      "F1: 0.8336463378471879\n",
      "Precision: 0.8275117739403454\n",
      "Recall: 0.8398725353515236\n"
     ]
    },
    {
     "name": "stderr",
     "output_type": "stream",
     "text": [
      "\n"
     ]
    }
   ],
   "source": [
    "_y_pred = CatBoostClassifier(iterations=700, learning_rate=0.1, depth=3, random_seed=123, verbose=100) \\\n",
    "    .fit(_w2vidf_X_train, _y_train, plot=True, early_stopping_rounds=50) \\\n",
    "    .predict(_w2vidf_vectorizer.transform(_X_test))\n",
    "\n",
    "print_score(_y_test, _y_pred)"
   ]
  },
  {
   "cell_type": "markdown",
   "metadata": {},
   "source": [
    "## Выводы:\n",
    "\n",
    "1. TF-IDF и embeddings дают сравнимое качество, однако word2vec работает с векторами намного меньшего размера => модель обучается быстрее.<br>\n",
    "2. Embeddings лучше подходят по следующей причине (предположение). TF-IDF максимален для слов специфичных для данного документа. Это хорошо для задач вида \"найти документ, похожий на данный\". Однако наша цель - классификация документов на ДВА класса (хорошо сбалансированных). Таким образом слова, специфичные для данной категории, могут иметь низкий TF-IDF потому что они употребляются во многих документах корпуса. С другой стороны, слова, специфичные для товара, на который оставляют отзыв могут иметь достаточно высокий TF-IDF. Особенно, если отзывы на данный товар занимают небольшой процент в корпусе.\n",
    "3. embeddings + TF-IDF показал чуть худший результат. Возможно TF-IDF вообше не очень подходит для данной задачи (см. пункт 2)."
   ]
  },
  {
   "cell_type": "code",
   "execution_count": null,
   "metadata": {},
   "outputs": [],
   "source": []
  }
 ],
 "metadata": {
  "accelerator": "GPU",
  "colab": {
   "gpuType": "T4",
   "provenance": []
  },
  "kernelspec": {
   "display_name": "venv",
   "language": "python",
   "name": "venv"
  },
  "language_info": {
   "codemirror_mode": {
    "name": "ipython",
    "version": 3
   },
   "file_extension": ".py",
   "mimetype": "text/x-python",
   "name": "python",
   "nbconvert_exporter": "python",
   "pygments_lexer": "ipython3",
   "version": "3.9.1"
  }
 },
 "nbformat": 4,
 "nbformat_minor": 4
}
